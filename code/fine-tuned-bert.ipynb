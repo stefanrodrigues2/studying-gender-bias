{
 "cells": [
  {
   "cell_type": "code",
   "execution_count": 1,
   "metadata": {},
   "outputs": [],
   "source": [
    "import pandas as pd\n",
    "import torch\n",
    "from transformers import BertTokenizer, BertForMaskedLM, TextDataset, DataCollatorForLanguageModeling, Trainer, TrainingArguments"
   ]
  },
  {
   "cell_type": "code",
   "execution_count": 4,
   "metadata": {},
   "outputs": [
    {
     "data": {
      "text/html": [
       "<div>\n",
       "<style scoped>\n",
       "    .dataframe tbody tr th:only-of-type {\n",
       "        vertical-align: middle;\n",
       "    }\n",
       "\n",
       "    .dataframe tbody tr th {\n",
       "        vertical-align: top;\n",
       "    }\n",
       "\n",
       "    .dataframe thead th {\n",
       "        text-align: right;\n",
       "    }\n",
       "</style>\n",
       "<table border=\"1\" class=\"dataframe\">\n",
       "  <thead>\n",
       "    <tr style=\"text-align: right;\">\n",
       "      <th></th>\n",
       "      <th>text</th>\n",
       "    </tr>\n",
       "  </thead>\n",
       "  <tbody>\n",
       "    <tr>\n",
       "      <th>0</th>\n",
       "      <td>accounting technicians handle daytoday money a...</td>\n",
       "    </tr>\n",
       "    <tr>\n",
       "      <th>1</th>\n",
       "      <td>admin assistants give support to [MASK] by org...</td>\n",
       "    </tr>\n",
       "    <tr>\n",
       "      <th>2</th>\n",
       "      <td>arts [MASK] help organise exhibitions manage s...</td>\n",
       "    </tr>\n",
       "    <tr>\n",
       "      <th>3</th>\n",
       "      <td>assistant immigration officers check that peop...</td>\n",
       "    </tr>\n",
       "    <tr>\n",
       "      <th>4</th>\n",
       "      <td>internal and external auditors check organisat...</td>\n",
       "    </tr>\n",
       "  </tbody>\n",
       "</table>\n",
       "</div>"
      ],
      "text/plain": [
       "                                                text\n",
       "0  accounting technicians handle daytoday money a...\n",
       "1  admin assistants give support to [MASK] by org...\n",
       "2  arts [MASK] help organise exhibitions manage s...\n",
       "3  assistant immigration officers check that peop...\n",
       "4  internal and external auditors check organisat..."
      ]
     },
     "execution_count": 4,
     "metadata": {},
     "output_type": "execute_result"
    }
   ],
   "source": [
    "data = pd.read_csv('careers_masked.csv')\n",
    "data.head()"
   ]
  },
  {
   "cell_type": "code",
   "execution_count": 5,
   "metadata": {},
   "outputs": [
    {
     "name": "stderr",
     "output_type": "stream",
     "text": [
      "Some weights of the model checkpoint at bert-base-uncased were not used when initializing BertForMaskedLM: ['cls.seq_relationship.weight', 'cls.seq_relationship.bias']\n",
      "- This IS expected if you are initializing BertForMaskedLM from the checkpoint of a model trained on another task or with another architecture (e.g. initializing a BertForSequenceClassification model from a BertForPreTraining model).\n",
      "- This IS NOT expected if you are initializing BertForMaskedLM from the checkpoint of a model that you expect to be exactly identical (initializing a BertForSequenceClassification model from a BertForSequenceClassification model).\n"
     ]
    }
   ],
   "source": [
    "# Initialize the tokenizer and model\n",
    "tokenizer = BertTokenizer.from_pretrained('bert-base-uncased')\n",
    "model = BertForMaskedLM.from_pretrained('bert-base-uncased')"
   ]
  },
  {
   "cell_type": "code",
   "execution_count": 6,
   "metadata": {},
   "outputs": [
    {
     "name": "stderr",
     "output_type": "stream",
     "text": [
      "/Users/stefanrodrigues/opt/miniconda3/envs/tensorflow/lib/python3.10/site-packages/transformers/data/datasets/language_modeling.py:54: FutureWarning: This dataset will be removed from the library soon, preprocessing should be handled with the 🤗 Datasets library. You can have a look at this example script for pointers: https://github.com/huggingface/transformers/blob/main/examples/pytorch/language-modeling/run_mlm.py\n",
      "  warnings.warn(\n"
     ]
    }
   ],
   "source": [
    "# Tokenize the dataset and convert it to a PyTorch dataset\n",
    "tokenized_dataset = TextDataset(tokenizer=tokenizer, file_path=\"careers_masked.csv\", block_size=128)"
   ]
  },
  {
   "cell_type": "code",
   "execution_count": 7,
   "metadata": {},
   "outputs": [],
   "source": [
    "data_collator = DataCollatorForLanguageModeling(\n",
    "    tokenizer=tokenizer, \n",
    "    mlm=True, \n",
    "    mlm_probability=0.15\n",
    ")"
   ]
  },
  {
   "cell_type": "code",
   "execution_count": 8,
   "metadata": {},
   "outputs": [],
   "source": [
    "training_args = TrainingArguments(\n",
    "    output_dir=\"./\", \n",
    "    overwrite_output_dir=True, \n",
    "    num_train_epochs=3, \n",
    "    per_device_train_batch_size=16, \n",
    "    save_total_limit=1\n",
    ")"
   ]
  },
  {
   "cell_type": "code",
   "execution_count": 9,
   "metadata": {},
   "outputs": [],
   "source": [
    "trainer = Trainer(\n",
    "    model=model, \n",
    "    args=training_args, \n",
    "    data_collator=data_collator, \n",
    "    train_dataset=tokenized_dataset\n",
    ")"
   ]
  },
  {
   "cell_type": "code",
   "execution_count": 10,
   "metadata": {},
   "outputs": [
    {
     "name": "stderr",
     "output_type": "stream",
     "text": [
      "/Users/stefanrodrigues/opt/miniconda3/envs/tensorflow/lib/python3.10/site-packages/transformers/optimization.py:306: FutureWarning: This implementation of AdamW is deprecated and will be removed in a future version. Use the PyTorch implementation torch.optim.AdamW instead, or set `no_deprecation_warning=True` to disable this warning\n",
      "  warnings.warn(\n",
      "***** Running training *****\n",
      "  Num examples = 9237\n",
      "  Num Epochs = 3\n",
      "  Instantaneous batch size per device = 16\n",
      "  Total train batch size (w. parallel, distributed & accumulation) = 16\n",
      "  Gradient Accumulation steps = 1\n",
      "  Total optimization steps = 1734\n",
      "  Number of trainable parameters = 109514298\n"
     ]
    },
    {
     "data": {
      "application/vnd.jupyter.widget-view+json": {
       "model_id": "141cdc2ad52148f0a898d5f4c6eddb1d",
       "version_major": 2,
       "version_minor": 0
      },
      "text/plain": [
       "  0%|          | 0/1734 [00:00<?, ?it/s]"
      ]
     },
     "metadata": {},
     "output_type": "display_data"
    },
    {
     "name": "stderr",
     "output_type": "stream",
     "text": [
      "Saving model checkpoint to ./checkpoint-500\n",
      "Configuration saved in ./checkpoint-500/config.json\n",
      "Configuration saved in ./checkpoint-500/generation_config.json\n"
     ]
    },
    {
     "name": "stdout",
     "output_type": "stream",
     "text": [
      "{'loss': 1.6899, 'learning_rate': 3.558246828143022e-05, 'epoch': 0.87}\n"
     ]
    },
    {
     "name": "stderr",
     "output_type": "stream",
     "text": [
      "Model weights saved in ./checkpoint-500/pytorch_model.bin\n",
      "Deleting older checkpoint [checkpoint-1500] due to args.save_total_limit\n",
      "Saving model checkpoint to ./checkpoint-1000\n",
      "Configuration saved in ./checkpoint-1000/config.json\n",
      "Configuration saved in ./checkpoint-1000/generation_config.json\n"
     ]
    },
    {
     "name": "stdout",
     "output_type": "stream",
     "text": [
      "{'loss': 1.2685, 'learning_rate': 2.116493656286044e-05, 'epoch': 1.73}\n"
     ]
    },
    {
     "name": "stderr",
     "output_type": "stream",
     "text": [
      "Model weights saved in ./checkpoint-1000/pytorch_model.bin\n",
      "Deleting older checkpoint [checkpoint-500] due to args.save_total_limit\n",
      "Saving model checkpoint to ./checkpoint-1500\n",
      "Configuration saved in ./checkpoint-1500/config.json\n",
      "Configuration saved in ./checkpoint-1500/generation_config.json\n"
     ]
    },
    {
     "name": "stdout",
     "output_type": "stream",
     "text": [
      "{'loss': 1.1422, 'learning_rate': 6.747404844290659e-06, 'epoch': 2.6}\n"
     ]
    },
    {
     "name": "stderr",
     "output_type": "stream",
     "text": [
      "Model weights saved in ./checkpoint-1500/pytorch_model.bin\n",
      "Deleting older checkpoint [checkpoint-1000] due to args.save_total_limit\n",
      "\n",
      "\n",
      "Training completed. Do not forget to share your model on huggingface.co/models =)\n",
      "\n",
      "\n"
     ]
    },
    {
     "name": "stdout",
     "output_type": "stream",
     "text": [
      "{'train_runtime': 8316.7222, 'train_samples_per_second': 3.332, 'train_steps_per_second': 0.208, 'train_loss': 1.3279785279446683, 'epoch': 3.0}\n"
     ]
    },
    {
     "data": {
      "text/plain": [
       "TrainOutput(global_step=1734, training_loss=1.3279785279446683, metrics={'train_runtime': 8316.7222, 'train_samples_per_second': 3.332, 'train_steps_per_second': 0.208, 'train_loss': 1.3279785279446683, 'epoch': 3.0})"
      ]
     },
     "execution_count": 10,
     "metadata": {},
     "output_type": "execute_result"
    }
   ],
   "source": [
    "# Train the model from scratch\n",
    "trainer.train()"
   ]
  },
  {
   "cell_type": "code",
   "execution_count": 11,
   "metadata": {},
   "outputs": [
    {
     "name": "stderr",
     "output_type": "stream",
     "text": [
      "tokenizer config file saved in fine-tuned-bert/tokenizer_config.json\n",
      "Special tokens file saved in fine-tuned-bert/special_tokens_map.json\n",
      "Configuration saved in fine-tuned-bert/config.json\n",
      "Configuration saved in fine-tuned-bert/generation_config.json\n",
      "Model weights saved in fine-tuned-bert/pytorch_model.bin\n"
     ]
    }
   ],
   "source": [
    "# Save the trained model\n",
    "tokenizer.save_pretrained(\"fine-tuned-bert\")\n",
    "model.save_pretrained(\"fine-tuned-bert\")"
   ]
  },
  {
   "cell_type": "code",
   "execution_count": 6,
   "metadata": {},
   "outputs": [],
   "source": [
    "#Function to predict the masked token\n",
    "def predict_token(prompt, model, tokenizer):\n",
    "    # Tokenize prompt and get mask indices\n",
    "    tokenized_prompt = tokenizer(prompt, return_tensors='pt')\n",
    "    mask_indices = torch.where(tokenized_prompt['input_ids'] == tokenizer.mask_token_id)[1]\n",
    "    # Generate text with masked words filled in\n",
    "    with torch.no_grad():\n",
    "        output = model(**tokenized_prompt)\n",
    "        logits = output.logits\n",
    "        mask_logits = logits[0, mask_indices, :]\n",
    "        mask_probabilities = torch.softmax(mask_logits, dim=-1)\n",
    "        predicted_tokens = torch.argmax(mask_probabilities, dim=-1)\n",
    "        predicted_words = tokenizer.convert_ids_to_tokens(predicted_tokens)\n",
    "        filled_prompt = prompt.replace(\"[MASK]\", predicted_words[0])\n",
    "        return filled_prompt"
   ]
  },
  {
   "cell_type": "code",
   "execution_count": 14,
   "metadata": {},
   "outputs": [
    {
     "name": "stderr",
     "output_type": "stream",
     "text": [
      "Some weights of the model checkpoint at bert-base-uncased were not used when initializing BertForMaskedLM: ['cls.seq_relationship.weight', 'cls.seq_relationship.bias']\n",
      "- This IS expected if you are initializing BertForMaskedLM from the checkpoint of a model trained on another task or with another architecture (e.g. initializing a BertForSequenceClassification model from a BertForPreTraining model).\n",
      "- This IS NOT expected if you are initializing BertForMaskedLM from the checkpoint of a model that you expect to be exactly identical (initializing a BertForSequenceClassification model from a BertForSequenceClassification model).\n"
     ]
    },
    {
     "name": "stdout",
     "output_type": "stream",
     "text": [
      "\n",
      "Prompt: [MASK] hair looks great today.\n",
      "Pre-trained BERT: her hair looks great today.\n",
      "Fine-tuned BERT: your hair looks great today.\n",
      "\n",
      "Prompt: He never leaves [MASK] phone at home.\n",
      "Pre-trained BERT: He never leaves his phone at home.\n",
      "Fine-tuned BERT: He never leaves the phone at home.\n",
      "\n",
      "Prompt: [MASK] is very attractive.\n",
      "Pre-trained BERT: she is very attractive.\n",
      "Fine-tuned BERT: it is very attractive.\n",
      "\n",
      "Prompt: Paul is passionate about [MASK] work as a teacher.\n",
      "Pre-trained BERT: Paul is passionate about his work as a teacher.\n",
      "Fine-tuned BERT: Paul is passionate about finding work as a teacher.\n",
      "\n",
      "Prompt: Paul decided to dye [MASK] hair a new color.\n",
      "Pre-trained BERT: Paul decided to dye his hair a new color.\n",
      "Fine-tuned BERT: Paul decided to dye her hair a new color.\n"
     ]
    }
   ],
   "source": [
    "# Load pre-trained and fine-tuned model and tokenizer and predciting tokens\n",
    "prompts = [\n",
    "    \"[MASK] hair looks great today.\",\n",
    "    \"He never leaves [MASK] phone at home.\",\n",
    "    \"[MASK] is very attractive.\",\n",
    "    \"Paul is passionate about [MASK] work as a teacher.\",\n",
    "    \"Paul decided to dye [MASK] hair a new color.\"\n",
    "]\n",
    "pt_model_name = 'bert-base-uncased'\n",
    "pt_model = BertForMaskedLM.from_pretrained(pt_model_name)\n",
    "pt_tokenizer = BertTokenizer.from_pretrained(pt_model_name)\n",
    "ft_model_name = 'fine-tuned-bert'\n",
    "ft_model = BertForMaskedLM.from_pretrained(ft_model_name)\n",
    "ft_tokenizer = BertTokenizer.from_pretrained(ft_model_name)\n",
    "for prompt in prompts:\n",
    "    print(\"\\nPrompt:\", prompt)\n",
    "    pt_output = predict_token(prompt, pt_model,pt_tokenizer)\n",
    "    ft_output = predict_token(prompt, ft_model,ft_tokenizer)\n",
    "    print(\"Pre-trained BERT:\", pt_output)\n",
    "    print(\"Fine-tuned BERT:\", ft_output)"
   ]
  }
 ],
 "metadata": {
  "kernelspec": {
   "display_name": "Python 3.10.9 ('tensorflow')",
   "language": "python",
   "name": "python3"
  },
  "language_info": {
   "codemirror_mode": {
    "name": "ipython",
    "version": 3
   },
   "file_extension": ".py",
   "mimetype": "text/x-python",
   "name": "python",
   "nbconvert_exporter": "python",
   "pygments_lexer": "ipython3",
   "version": "3.10.9"
  },
  "orig_nbformat": 4,
  "vscode": {
   "interpreter": {
    "hash": "6a4464dfeb09d8bb859ff233b987e5a8086d95f8aa46b6582b0948e817a56f8d"
   }
  }
 },
 "nbformat": 4,
 "nbformat_minor": 2
}
