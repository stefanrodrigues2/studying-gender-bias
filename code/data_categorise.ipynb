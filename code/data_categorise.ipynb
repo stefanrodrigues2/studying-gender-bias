{
 "cells": [
  {
   "cell_type": "code",
   "execution_count": 4,
   "metadata": {},
   "outputs": [],
   "source": [
    "import pandas as pd\n",
    "import csv"
   ]
  },
  {
   "cell_type": "code",
   "execution_count": 3,
   "metadata": {},
   "outputs": [],
   "source": [
    "male_words = ['him', 'his', 'himself', 'man', 'men', 'father', 'brother', 'son', 'husband', 'boy', 'male']\n",
    "female_words = ['she', 'her', 'hers', 'herself', 'woman', 'women', 'mother', 'sister', 'daughter', 'wife', 'girl', 'female']"
   ]
  },
  {
   "cell_type": "code",
   "execution_count": 9,
   "metadata": {},
   "outputs": [
    {
     "name": "stdout",
     "output_type": "stream",
     "text": [
      "1\n",
      "3\n",
      "4\n",
      "3\n",
      "1\n",
      "3\n",
      "4\n",
      "1\n",
      "1\n",
      "2\n",
      "2\n",
      "1\n",
      "3\n",
      "4\n"
     ]
    }
   ],
   "source": [
    "with open('careers.csv', mode='r', newline='') as input_file, open('careers_with_gender.csv', mode='w', newline='') as output_file:\n",
    "    reader = csv.reader(input_file)\n",
    "    writer = csv.writer(output_file)\n",
    "    # Read the header row from the input file and write it to the output file with an additional \"gender\" column\n",
    "    \n",
    "    header = next(reader)\n",
    "    header.append('Gender')\n",
    "    writer.writerow(header)\n",
    "    \n",
    "    # Loop through each row in the input file\n",
    "    for row in reader:\n",
    "        male_count = 0\n",
    "        female_count = 0\n",
    "        # Join all the columns into a single string\n",
    "        text = ' '.join(row)\n",
    "        for word in text.split():\n",
    "            if word.lower() in male_words:\n",
    "                male_count += 1\n",
    "            elif word.lower() in female_words:\n",
    "                female_count += 1\n",
    "        if (male_count>0):\n",
    "            print(male_count)\n",
    "        if(female_count>0):\n",
    "            print(female_count)\n",
    "        if male_count > female_count:\n",
    "            row.append('Male')\n",
    "        elif female_count > male_count:\n",
    "            row.append('Female')\n",
    "        else:\n",
    "            row.append('')\n",
    "        writer.writerow(row)\n"
   ]
  },
  {
   "cell_type": "code",
   "execution_count": 10,
   "metadata": {},
   "outputs": [],
   "source": [
    "df = pd.read_csv(\"careers_with_gender.csv\")"
   ]
  },
  {
   "cell_type": "code",
   "execution_count": 11,
   "metadata": {},
   "outputs": [],
   "source": [
    "# Select the desired columns\n",
    "columns_to_keep = ['Category', 'Job Title', 'Job Description', 'Job URL', 'Gender']\n",
    "df = df[columns_to_keep]"
   ]
  },
  {
   "cell_type": "code",
   "execution_count": 12,
   "metadata": {},
   "outputs": [],
   "source": [
    "# Save the updated dataframe to a new CSV file\n",
    "df.to_csv('careers_with_gender.csv', index=False)"
   ]
  },
  {
   "cell_type": "markdown",
   "metadata": {},
   "source": [
    "### Comparison with gendered prompts"
   ]
  },
  {
   "cell_type": "code",
   "execution_count": 2,
   "metadata": {},
   "outputs": [],
   "source": [
    "from sentence_transformers import SentenceTransformer\n",
    "from sklearn.metrics.pairwise import cosine_similarity"
   ]
  },
  {
   "cell_type": "code",
   "execution_count": 5,
   "metadata": {},
   "outputs": [],
   "source": [
    "df = pd.read_csv('careers_single.csv')"
   ]
  },
  {
   "cell_type": "code",
   "execution_count": 6,
   "metadata": {},
   "outputs": [],
   "source": [
    "# Load the sentence transformer model\n",
    "model = SentenceTransformer('bert-base-nli-mean-tokens')"
   ]
  },
  {
   "cell_type": "code",
   "execution_count": 7,
   "metadata": {},
   "outputs": [],
   "source": [
    "# Read in the list of gendered stereotype sentences\n",
    "with open('gendered_prompts.txt', 'r') as f:\n",
    "    stereotype_sentences = [line.strip() for line in f.readlines()]"
   ]
  },
  {
   "cell_type": "code",
   "execution_count": 8,
   "metadata": {},
   "outputs": [],
   "source": [
    "# Create embeddings for each sentence in the dataset and the stereotype sentences\n",
    "dataset_embeddings = model.encode(df['text'].tolist())\n",
    "stereotype_embeddings = model.encode(stereotype_sentences)"
   ]
  },
  {
   "cell_type": "code",
   "execution_count": 9,
   "metadata": {},
   "outputs": [],
   "source": [
    "# Compute the cosine similarity between each sentence in the dataset and each stereotype sentence\n",
    "similarity_scores = cosine_similarity(dataset_embeddings, stereotype_embeddings)"
   ]
  },
  {
   "cell_type": "code",
   "execution_count": 10,
   "metadata": {},
   "outputs": [
    {
     "name": "stdout",
     "output_type": "stream",
     "text": [
      "Most similar sentences for gendered prompt 'He is a doctor, she is a nurse.':\n",
      "\t- 'physician associates support doctors to diagnose and manage patients in hospitals and gp surgeries' (similarity score: 0.82)\n",
      "\t- 'practice nurses work in gp surgeries to assess screen treat and educate patients and help doctors give medical care' (similarity score: 0.79)\n",
      "\t- 'you could take on a specialist role like clinical technician working with healthcare professionals and patients on wards' (similarity score: 0.78)\n",
      "\n",
      "Most similar sentences for gendered prompt 'Men are better at math and science than women.':\n",
      "\t- 'employers may be more interested in your practical ability than formal qualifications although itll help if you have gcses in subjects like english art and design maths and design and technology' (similarity score: 0.71)\n",
      "\t- 'employers may be more interested in your practical ability than formal qualifications although itll help if you have gcses in subjects like english art and design maths and design and technology' (similarity score: 0.71)\n",
      "\t- 'gcses in maths english and design and technology can be useful although not always essential' (similarity score: 0.68)\n",
      "\n",
      "Most similar sentences for gendered prompt 'Women are emotional and irrational.':\n",
      "\t- 'training in psychotherapy is personally and emotionally challenging' (similarity score: 0.70)\n",
      "\t- 'training in psychotherapy is personally and emotionally challenging' (similarity score: 0.70)\n",
      "\t- 'your working environment may be youll travel often and emotionally demanding' (similarity score: 0.62)\n",
      "\n",
      "Most similar sentences for gendered prompt 'Men are tough and aggressive.':\n",
      "\t- 'your working environment may be physically demanding hot and noisy' (similarity score: 0.75)\n",
      "\t- 'your working environment may be physically demanding hot and noisy' (similarity score: 0.75)\n",
      "\t- 'your working environment may be noisy and physically demanding' (similarity score: 0.74)\n",
      "\n",
      "Most similar sentences for gendered prompt 'Women belong in the kitchen, men belong in the workplace.':\n",
      "\t- 'with experience you could progress to a supervisor post like assistant housekeeper or head steward' (similarity score: 0.70)\n",
      "\t- 'with experience you could progress to a supervisor post like assistant housekeeper or head steward' (similarity score: 0.70)\n",
      "\t- 'butlers carry out personal and household tasks for their employers' (similarity score: 0.69)\n",
      "\n",
      "Most similar sentences for gendered prompt 'Men don't cry, they tough it out.':\n",
      "\t- 'you do not need qualifications as personal qualities are more important in this role' (similarity score: 0.68)\n",
      "\t- 'feepaid judges can continue to practise law providing there is no conflict of interest' (similarity score: 0.67)\n",
      "\t- 'to volunteer you normally need to be over and of good character with a caring nature and nonjudgemental attitude' (similarity score: 0.63)\n",
      "\n",
      "Most similar sentences for gendered prompt 'Women are weak and fragile.':\n",
      "\t- 'these will not make you fully qualified' (similarity score: 0.64)\n",
      "\t- 'these will not make you fully qualified' (similarity score: 0.64)\n",
      "\t- 'they do not offer chartered training' (similarity score: 0.58)\n",
      "\n",
      "Most similar sentences for gendered prompt 'Men should be the primary breadwinners in a family.':\n",
      "\t- 'when you apply youll need to show you have the right personal qualities and skills to be a family mediator' (similarity score: 0.64)\n",
      "\t- 'when you apply youll need to show you have the right personal qualities and skills to be a family mediator' (similarity score: 0.64)\n",
      "\t- 'youll need the support of your employer to do a degree apprenticeship' (similarity score: 0.62)\n",
      "\n",
      "Most similar sentences for gendered prompt 'Women are bad drivers.':\n",
      "\t- 'training in psychotherapy is personally and emotionally challenging' (similarity score: 0.65)\n",
      "\t- 'training in psychotherapy is personally and emotionally challenging' (similarity score: 0.65)\n",
      "\t- 'your working environment may be cold dirty and physically and emotionally demanding' (similarity score: 0.64)\n",
      "\n",
      "Most similar sentences for gendered prompt 'Men are the natural leaders.':\n",
      "\t- 'there is a clear promotion structure in the civil service' (similarity score: 0.65)\n",
      "\t- 'there is a clear promotion structure in the civil service' (similarity score: 0.65)\n",
      "\t- 'there is a clear promotion structure in the civil service' (similarity score: 0.65)\n",
      "\n",
      "Most similar sentences for gendered prompt 'Women are nurturing and should be caregivers.':\n",
      "\t- 'youll also need to show that you can work well with children teachers and parents' (similarity score: 0.75)\n",
      "\t- 'experience of caring for someone in your own family or community can help you get into a social work assistant role' (similarity score: 0.75)\n",
      "\t- 'youll usually need youll find it helpful to get some experience before you apply for nurse training' (similarity score: 0.74)\n",
      "\n",
      "Most similar sentences for gendered prompt 'Men should be muscular and strong.':\n",
      "\t- 'youll need a very strong commitment to the organisations aims' (similarity score: 0.68)\n",
      "\t- 'youll need a very strong commitment to the organisations aims' (similarity score: 0.68)\n",
      "\t- 'competition for places is strong' (similarity score: 0.64)\n",
      "\n",
      "Most similar sentences for gendered prompt 'Women are obsessed with their appearance.':\n",
      "\t- 'theres a lot of competition for modelling jobs' (similarity score: 0.66)\n",
      "\t- 'youll need a good appearance and the right look for the area of modelling you want to go into' (similarity score: 0.61)\n",
      "\t- 'this will be important as theres a lot of competition for trainee jobs' (similarity score: 0.60)\n",
      "\n",
      "Most similar sentences for gendered prompt 'Men are logical and rational.':\n",
      "\t- 'this is to show how consistent your academic achievement has been' (similarity score: 0.65)\n",
      "\t- 'excellent presentation and confident public speaking skills are essential' (similarity score: 0.61)\n",
      "\t- 'most subjects are acceptable' (similarity score: 0.60)\n",
      "\n",
      "Most similar sentences for gendered prompt 'Women are overly emotional and sensitive.':\n",
      "\t- 'training in psychotherapy is personally and emotionally challenging' (similarity score: 0.70)\n",
      "\t- 'training in psychotherapy is personally and emotionally challenging' (similarity score: 0.70)\n",
      "\t- 'your working environment may be youll travel often and emotionally demanding' (similarity score: 0.69)\n",
      "\n"
     ]
    }
   ],
   "source": [
    "# Print the top-k most similar sentences for each stereotype sentence\n",
    "k = 3  # top-k most similar sentences\n",
    "for i, stereotype_sentence in enumerate(stereotype_sentences):\n",
    "    print(f\"Most similar sentences for gendered prompt '{stereotype_sentence}':\")\n",
    "    top_k_indices = similarity_scores[:, i].argsort()[-k:][::-1]\n",
    "    for idx in top_k_indices:\n",
    "        print(f\"\\t- '{df.iloc[idx]['text']}' (similarity score: {similarity_scores[idx, i]:.2f})\")\n",
    "    print()"
   ]
  }
 ],
 "metadata": {
  "kernelspec": {
   "display_name": "Python 3.10.9 ('tensorflow')",
   "language": "python",
   "name": "python3"
  },
  "language_info": {
   "codemirror_mode": {
    "name": "ipython",
    "version": 3
   },
   "file_extension": ".py",
   "mimetype": "text/x-python",
   "name": "python",
   "nbconvert_exporter": "python",
   "pygments_lexer": "ipython3",
   "version": "3.10.9"
  },
  "orig_nbformat": 4,
  "vscode": {
   "interpreter": {
    "hash": "6a4464dfeb09d8bb859ff233b987e5a8086d95f8aa46b6582b0948e817a56f8d"
   }
  }
 },
 "nbformat": 4,
 "nbformat_minor": 2
}
